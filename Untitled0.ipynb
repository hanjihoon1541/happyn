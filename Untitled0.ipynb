{
  "nbformat": 4,
  "nbformat_minor": 0,
  "metadata": {
    "colab": {
      "name": "Untitled0.ipynb",
      "provenance": [],
      "authorship_tag": "ABX9TyM6m4YhBVt+K9rvdW4uehIi",
      "include_colab_link": true
    },
    "kernelspec": {
      "name": "python3",
      "display_name": "Python 3"
    }
  },
  "cells": [
    {
      "cell_type": "markdown",
      "metadata": {
        "id": "view-in-github",
        "colab_type": "text"
      },
      "source": [
        "<a href=\"https://colab.research.google.com/github/hanjihoon1541/happyn/blob/master/Untitled0.ipynb\" target=\"_parent\"><img src=\"https://colab.research.google.com/assets/colab-badge.svg\" alt=\"Open In Colab\"/></a>"
      ]
    },
    {
      "cell_type": "markdown",
      "metadata": {
        "id": "rABoEiRNua8E",
        "colab_type": "text"
      },
      "source": [
        "# 1주차 과제 인공지능 서비스\n",
        "1. *언어 분야*\n",
        " 1. __자연어처리__\n",
        " 2. 연어 처리를 진행하면 글의 감정을 분석할 수 있습니다. 감정을 판단하기 위해 긍정, 부정 문장을 모아 데이터를 만든 후, 인공지능에게 각 문장의 긍정, 부정 속성을 학습시킵니다. 인공지능은 학습 과정에서 각 단어의 노출 빈도를 바탕으로 데이터 외의 새로운 문장을 평가할 수 있습니다.\n",
        "\n",
        "\n",
        "2. *이미지 분야*\n",
        " 1. __인공지능 이미지 인식 기술__\n",
        " 2. 각 사물의 형체를 사람보다 정확하고 세밀하게 인식하는 AI(인공지능)의 이미지 인식기술을 통해 기업들은 제품 및 서비스를 혁신할 수 있다. \n",
        "\n",
        "지문을 예로 들면 사람마다 지문 모양이 다르기 때문에 각 지문으로 패턴을 만든 후 여러 지문 데이터를 학습하면서 통계학적 패턴을 구분하고, 지문 확인이 필요할 때 어떤 패턴에 해당되는지를 계속적으로 추적해서 최종적으로 지문의 주인을 가려낸다. 학습량이 늘어날수록 판별의 정확도는 올라간다.\n",
        "\n",
        "3. *음성 분야*\n",
        " 1. __스마트폰 음성 인식 서비스__\n",
        " 2. 요즘 스마트폰은 없어서는 안되는 물건중 하나이며,\n",
        " 대부분의 핸드폰에는 음성 인식 서비스가 탑재되어 있다.\n",
        " 음성 인식 기술이란, 사람이 말하는 음성 언어를 컴퓨터가 해석하여 그 내용을 문자 데이터로 전환하는 처리를 말한다. 즉, 사람이 특정 명령을 입력하거나 아이콘을 클릭하는 행위 없이 오로지 음성으로 데이터를 처리할 수 있게 된 것 이다.\n",
        "\n",
        "\n",
        "\n",
        "\n",
        "\n",
        "4. *자율주행 분야*\n",
        " 1. __자율주행 자동차__\n",
        " 2. 자동차에서 인공지능이 활용된 대표적인 예는 역시 자율주행이죠. 자율주행은 운전자 개입 없이 자동차가 스스로 도로 환경을 인식하고 조항, 변속 장치 등을 제어하여 목적지까지 주행하는 것을 가리킵니다.\n",
        " ***\n",
        " \n",
        "\n"
      ]
    }
  ]
}